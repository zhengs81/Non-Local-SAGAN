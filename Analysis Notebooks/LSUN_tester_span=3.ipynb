{
 "cells": [
  {
   "cell_type": "code",
   "execution_count": 1,
   "id": "c0896e07-8a7c-4dfc-bcc4-93adea6741a5",
   "metadata": {
    "tags": []
   },
   "outputs": [],
   "source": [
    "import os\n",
    "import time\n",
    "import torch\n",
    "import datetime\n",
    "\n",
    "import torch.nn as nn\n",
    "from torch.autograd import Variable\n",
    "from torchvision.utils import save_image\n",
    "\n",
    "from sagan_models import Generator, Discriminator\n",
    "from utils import *"
   ]
  },
  {
   "cell_type": "code",
   "execution_count": 2,
   "id": "c0727bb0-80b7-4ca0-a957-6e07ca99af1a",
   "metadata": {
    "tags": []
   },
   "outputs": [],
   "source": [
    "from parameter import *\n",
    "from trainer import Trainer\n",
    "from data_loader import Data_Loader\n",
    "from torch.backends import cudnn\n",
    "from utils import make_folder\n",
    "import torch_fidelity"
   ]
  },
  {
   "cell_type": "code",
   "execution_count": 3,
   "id": "fdcef391-1d1c-4b5c-8b31-861298878d8f",
   "metadata": {
    "tags": []
   },
   "outputs": [],
   "source": [
    "config = get_parameters()"
   ]
  },
  {
   "cell_type": "code",
   "execution_count": 4,
   "id": "0855df41-29c0-489c-b3a0-f85fb15926e4",
   "metadata": {
    "tags": []
   },
   "outputs": [],
   "source": [
    "config.batch_size=64\n",
    "config.imsize=64\n",
    "config.train=False\n",
    "config.pretrained_model=100000\n",
    "config.dataset=\"lsun\"\n",
    "config.version=\"sagan_lsun\"\n",
    "config.adv_loss='hinge'\n",
    "config.model_save_path='./lsun_sparse_models_3'"
   ]
  },
  {
   "cell_type": "code",
   "execution_count": 5,
   "id": "51b36219-0381-4b2a-a3c9-4db0db55fbb5",
   "metadata": {
    "tags": []
   },
   "outputs": [
    {
     "data": {
      "text/plain": [
       "'./lsun_sparse_models_3'"
      ]
     },
     "execution_count": 5,
     "metadata": {},
     "output_type": "execute_result"
    }
   ],
   "source": [
    "config.model_save_path"
   ]
  },
  {
   "cell_type": "code",
   "execution_count": 6,
   "id": "e00fd298-0ee3-462a-a9eb-525920661d9b",
   "metadata": {
    "tags": []
   },
   "outputs": [],
   "source": [
    "class Tester(object):\n",
    "    def __init__(self, config):\n",
    "        # exact model and loss\n",
    "        self.model = config.model\n",
    "        self.adv_loss = config.adv_loss\n",
    "\n",
    "        # Model hyper-parameters\n",
    "        self.imsize = config.imsize\n",
    "        self.g_num = config.g_num\n",
    "        self.z_dim = config.z_dim\n",
    "        self.g_conv_dim = config.g_conv_dim\n",
    "        self.d_conv_dim = config.d_conv_dim\n",
    "        self.parallel = config.parallel\n",
    "\n",
    "        self.lambda_gp = config.lambda_gp\n",
    "        self.total_step = config.total_step\n",
    "        self.d_iters = config.d_iters\n",
    "        self.batch_size = config.batch_size\n",
    "        self.num_workers = config.num_workers\n",
    "        self.g_lr = config.g_lr\n",
    "        self.d_lr = config.d_lr\n",
    "        self.lr_decay = config.lr_decay\n",
    "        self.beta1 = config.beta1\n",
    "        self.beta2 = config.beta2\n",
    "        self.pretrained_model = config.pretrained_model\n",
    "\n",
    "        self.dataset = config.dataset\n",
    "        self.use_tensorboard = config.use_tensorboard\n",
    "        self.image_path = config.image_path\n",
    "        self.log_path = config.log_path\n",
    "        self.model_save_path = config.model_save_path\n",
    "        self.sample_path = config.sample_path\n",
    "        self.log_step = config.log_step\n",
    "        self.sample_step = config.sample_step\n",
    "        self.model_save_step = config.model_save_step\n",
    "        self.version = config.version\n",
    "\n",
    "        # Path\n",
    "        self.log_path = os.path.join(config.log_path, self.version)\n",
    "        self.sample_path = os.path.join(config.sample_path, self.version)\n",
    "        self.model_save_path = os.path.join(config.model_save_path, self.version)\n",
    "\n",
    "        self.build_model()\n",
    "\n",
    "        if self.use_tensorboard:\n",
    "            self.build_tensorboard()\n",
    "\n",
    "        # Start with trained model\n",
    "        if self.pretrained_model:\n",
    "            self.load_pretrained_model()\n",
    "    \n",
    "    def test(self):\n",
    "        make_folder('./','lsun_generated_dataset_span_3_{}'.format(self.pretrained_model))\n",
    "        # 一共可得到1000*64=64000张照片\n",
    "        for i in range(1000):\n",
    "            # 一定要用randn,不可用rand！ 前者为正态分布，后者为均匀分布\n",
    "            rand_z=tensor2var(torch.randn(self.batch_size, self.z_dim))\n",
    "            fake_images,_,_=self.G(rand_z)\n",
    "            for j in range(self.batch_size):\n",
    "                save_image(denorm(fake_images[j]),'./lsun_generated_dataset_span_3_'+str(self.pretrained_model)+'/{}_fake.png'.format(i*64+j + 1))\n",
    "            # save_image(denorm(fake_images),'./generated_dataset/tot.png')\n",
    "\n",
    "    def build_model(self):\n",
    "\n",
    "        self.G = Generator(self.batch_size,self.imsize, self.z_dim, self.g_conv_dim).cuda()\n",
    "        self.D = Discriminator(self.batch_size,self.imsize, self.d_conv_dim).cuda()\n",
    "        if self.parallel:\n",
    "            self.G = nn.DataParallel(self.G)\n",
    "            self.D = nn.DataParallel(self.D)\n",
    "\n",
    "        # Loss and optimizer\n",
    "        # self.g_optimizer = torch.optim.Adam(self.G.parameters(), self.g_lr, [self.beta1, self.beta2])\n",
    "        self.g_optimizer = torch.optim.Adam(filter(lambda p: p.requires_grad, self.G.parameters()), self.g_lr, [self.beta1, self.beta2])\n",
    "        self.d_optimizer = torch.optim.Adam(filter(lambda p: p.requires_grad, self.D.parameters()), self.d_lr, [self.beta1, self.beta2])\n",
    "\n",
    "        self.c_loss = torch.nn.CrossEntropyLoss()\n",
    "\n",
    "    def load_pretrained_model(self):\n",
    "        self.G.load_state_dict(torch.load(os.path.join(\n",
    "            self.model_save_path, '{}_G.pth'.format(self.pretrained_model))))\n",
    "        self.D.load_state_dict(torch.load(os.path.join(\n",
    "            self.model_save_path, '{}_D.pth'.format(self.pretrained_model))))\n",
    "        print('loaded trained models (step: {})..!'.format(self.pretrained_model))"
   ]
  },
  {
   "cell_type": "code",
   "execution_count": 7,
   "id": "d7780b9c-3d7b-41bb-975a-7aaf33efe587",
   "metadata": {
    "tags": []
   },
   "outputs": [],
   "source": [
    "# !python -m pytorch_fid ./generated_dataset996975 ./data/CelebA/img_align_celeba/img_align_celeba --device cuda:0"
   ]
  },
  {
   "cell_type": "code",
   "execution_count": 8,
   "id": "681f5aff-2a2c-4bba-bc2e-da946cf4337d",
   "metadata": {
    "tags": []
   },
   "outputs": [
    {
     "name": "stdout",
     "output_type": "stream",
     "text": [
      "loaded trained models (step: 10000)..!\n"
     ]
    },
    {
     "name": "stderr",
     "output_type": "stream",
     "text": [
      "Creating feature extractor \"inception-v3-compat\" with features ['2048', 'logits_unbiased']\n",
      "Extracting features from input1\n",
      "Looking for samples non-recursivelty in \"./lsun_generated_dataset_span_3_10000\" with extensions png,jpg,jpeg\n",
      "Found 64000 samples\n",
      "C:\\anaconda3\\Lib\\site-packages\\torch_fidelity\\datasets.py:16: UserWarning: TypedStorage is deprecated. It will be removed in the future and UntypedStorage will be the only storage class. This should only matter to you if you are using storages directly.  To access UntypedStorage directly, use tensor.untyped_storage() instead of tensor.storage()\n",
      "  img = torch.ByteTensor(torch.ByteStorage.from_buffer(img.tobytes())).view(height, width, 3)\n",
      "Processing samples                                                                                                     \n",
      "Extracting features from input2\n",
      "Looking for samples non-recursivelty in \"./data/transformed_images_LSUN\" with extensions png,jpg,jpeg\n",
      "Found 126227 samples\n",
      "Processing samples                                                                                                     \n",
      "Inception Score: 2.225298898901733 ± 0.01307017516180693\n",
      "Frechet Inception Distance: 159.74705070072875\n"
     ]
    },
    {
     "name": "stdout",
     "output_type": "stream",
     "text": [
      "{'inception_score_mean': 2.225298898901733, 'inception_score_std': 0.01307017516180693, 'frechet_inception_distance': 159.74705070072875}\n",
      "loaded trained models (step: 20000)..!\n"
     ]
    },
    {
     "name": "stderr",
     "output_type": "stream",
     "text": [
      "Creating feature extractor \"inception-v3-compat\" with features ['2048', 'logits_unbiased']\n",
      "Extracting features from input1\n",
      "Looking for samples non-recursivelty in \"./lsun_generated_dataset_span_3_20000\" with extensions png,jpg,jpeg\n",
      "Found 64000 samples\n",
      "Processing samples                                                                                                     \n",
      "Extracting features from input2\n",
      "Looking for samples non-recursivelty in \"./data/transformed_images_LSUN\" with extensions png,jpg,jpeg\n",
      "Found 126227 samples\n",
      "Processing samples                                                                                                     \n",
      "Inception Score: 2.2809561125828144 ± 0.013968520785890517\n",
      "Frechet Inception Distance: 108.92916924136688\n"
     ]
    },
    {
     "name": "stdout",
     "output_type": "stream",
     "text": [
      "{'inception_score_mean': 2.2809561125828144, 'inception_score_std': 0.013968520785890517, 'frechet_inception_distance': 108.92916924136688}\n",
      "loaded trained models (step: 30000)..!\n"
     ]
    },
    {
     "name": "stderr",
     "output_type": "stream",
     "text": [
      "Creating feature extractor \"inception-v3-compat\" with features ['2048', 'logits_unbiased']\n",
      "Extracting features from input1\n",
      "Looking for samples non-recursivelty in \"./lsun_generated_dataset_span_3_30000\" with extensions png,jpg,jpeg\n",
      "Found 64000 samples\n",
      "Processing samples                                                                                                     \n",
      "Extracting features from input2\n",
      "Looking for samples non-recursivelty in \"./data/transformed_images_LSUN\" with extensions png,jpg,jpeg\n",
      "Found 126227 samples\n",
      "Processing samples                                                                                                     \n",
      "Inception Score: 2.5348323175294016 ± 0.011064074206118569\n",
      "Frechet Inception Distance: 112.82281817133605\n"
     ]
    },
    {
     "name": "stdout",
     "output_type": "stream",
     "text": [
      "{'inception_score_mean': 2.5348323175294016, 'inception_score_std': 0.011064074206118569, 'frechet_inception_distance': 112.82281817133605}\n",
      "loaded trained models (step: 40000)..!\n"
     ]
    },
    {
     "name": "stderr",
     "output_type": "stream",
     "text": [
      "Creating feature extractor \"inception-v3-compat\" with features ['2048', 'logits_unbiased']\n",
      "Extracting features from input1\n",
      "Looking for samples non-recursivelty in \"./lsun_generated_dataset_span_3_40000\" with extensions png,jpg,jpeg\n",
      "Found 64000 samples\n",
      "Processing samples                                                                                                     \n",
      "Extracting features from input2\n",
      "Looking for samples non-recursivelty in \"./data/transformed_images_LSUN\" with extensions png,jpg,jpeg\n",
      "Found 126227 samples\n",
      "Processing samples                                                                                                     \n",
      "Inception Score: 2.4517477575295645 ± 0.012540797642588858\n",
      "Frechet Inception Distance: 189.0231213059564\n"
     ]
    },
    {
     "name": "stdout",
     "output_type": "stream",
     "text": [
      "{'inception_score_mean': 2.4517477575295645, 'inception_score_std': 0.012540797642588858, 'frechet_inception_distance': 189.0231213059564}\n",
      "loaded trained models (step: 50000)..!\n"
     ]
    },
    {
     "name": "stderr",
     "output_type": "stream",
     "text": [
      "Creating feature extractor \"inception-v3-compat\" with features ['2048', 'logits_unbiased']\n",
      "Extracting features from input1\n",
      "Looking for samples non-recursivelty in \"./lsun_generated_dataset_span_3_50000\" with extensions png,jpg,jpeg\n",
      "Found 64000 samples\n",
      "Processing samples                                                                                                     \n",
      "Extracting features from input2\n",
      "Looking for samples non-recursivelty in \"./data/transformed_images_LSUN\" with extensions png,jpg,jpeg\n",
      "Found 126227 samples\n",
      "Processing samples                                                                                                     \n",
      "Inception Score: 1.6863579520699308 ± 0.007208562287256692\n",
      "Frechet Inception Distance: 202.40956119116828\n"
     ]
    },
    {
     "name": "stdout",
     "output_type": "stream",
     "text": [
      "{'inception_score_mean': 1.6863579520699308, 'inception_score_std': 0.007208562287256692, 'frechet_inception_distance': 202.40956119116828}\n",
      "loaded trained models (step: 60000)..!\n"
     ]
    },
    {
     "name": "stderr",
     "output_type": "stream",
     "text": [
      "Creating feature extractor \"inception-v3-compat\" with features ['2048', 'logits_unbiased']\n",
      "Extracting features from input1\n",
      "Looking for samples non-recursivelty in \"./lsun_generated_dataset_span_3_60000\" with extensions png,jpg,jpeg\n",
      "Found 64000 samples\n",
      "Processing samples                                                                                                     \n",
      "Extracting features from input2\n",
      "Looking for samples non-recursivelty in \"./data/transformed_images_LSUN\" with extensions png,jpg,jpeg\n",
      "Found 126227 samples\n",
      "Processing samples                                                                                                     \n",
      "Inception Score: 1.9681826609844748 ± 0.013463311706022676\n",
      "Frechet Inception Distance: 137.91294474330377\n"
     ]
    },
    {
     "name": "stdout",
     "output_type": "stream",
     "text": [
      "{'inception_score_mean': 1.9681826609844748, 'inception_score_std': 0.013463311706022676, 'frechet_inception_distance': 137.91294474330377}\n",
      "loaded trained models (step: 70000)..!\n"
     ]
    },
    {
     "name": "stderr",
     "output_type": "stream",
     "text": [
      "Creating feature extractor \"inception-v3-compat\" with features ['2048', 'logits_unbiased']\n",
      "Extracting features from input1\n",
      "Looking for samples non-recursivelty in \"./lsun_generated_dataset_span_3_70000\" with extensions png,jpg,jpeg\n",
      "Found 64000 samples\n",
      "Processing samples                                                                                                     \n",
      "Extracting features from input2\n",
      "Looking for samples non-recursivelty in \"./data/transformed_images_LSUN\" with extensions png,jpg,jpeg\n",
      "Found 126227 samples\n",
      "Processing samples                                                                                                     \n",
      "Inception Score: 2.8306039515687016 ± 0.008100737611419337\n",
      "Frechet Inception Distance: 178.10850594362074\n"
     ]
    },
    {
     "name": "stdout",
     "output_type": "stream",
     "text": [
      "{'inception_score_mean': 2.8306039515687016, 'inception_score_std': 0.008100737611419337, 'frechet_inception_distance': 178.10850594362074}\n",
      "loaded trained models (step: 80000)..!\n"
     ]
    },
    {
     "name": "stderr",
     "output_type": "stream",
     "text": [
      "Creating feature extractor \"inception-v3-compat\" with features ['2048', 'logits_unbiased']\n",
      "Extracting features from input1\n",
      "Looking for samples non-recursivelty in \"./lsun_generated_dataset_span_3_80000\" with extensions png,jpg,jpeg\n",
      "Found 64000 samples\n",
      "Processing samples                                                                                                     \n",
      "Extracting features from input2\n",
      "Looking for samples non-recursivelty in \"./data/transformed_images_LSUN\" with extensions png,jpg,jpeg\n",
      "Found 126227 samples\n",
      "Processing samples                                                                                                     \n",
      "Inception Score: 1.9918005224319224 ± 0.009018752121885621\n",
      "Frechet Inception Distance: 168.62709218746295\n"
     ]
    },
    {
     "name": "stdout",
     "output_type": "stream",
     "text": [
      "{'inception_score_mean': 1.9918005224319224, 'inception_score_std': 0.009018752121885621, 'frechet_inception_distance': 168.62709218746295}\n",
      "loaded trained models (step: 90000)..!\n"
     ]
    },
    {
     "name": "stderr",
     "output_type": "stream",
     "text": [
      "Creating feature extractor \"inception-v3-compat\" with features ['2048', 'logits_unbiased']\n",
      "Extracting features from input1\n",
      "Looking for samples non-recursivelty in \"./lsun_generated_dataset_span_3_90000\" with extensions png,jpg,jpeg\n",
      "Found 64000 samples\n",
      "Processing samples                                                                                                     \n",
      "Extracting features from input2\n",
      "Looking for samples non-recursivelty in \"./data/transformed_images_LSUN\" with extensions png,jpg,jpeg\n",
      "Found 126227 samples\n",
      "Processing samples                                                                                                     \n",
      "Inception Score: 1.6049785379138164 ± 0.004670973797022037\n",
      "Frechet Inception Distance: 193.96909256303167\n"
     ]
    },
    {
     "name": "stdout",
     "output_type": "stream",
     "text": [
      "{'inception_score_mean': 1.6049785379138164, 'inception_score_std': 0.004670973797022037, 'frechet_inception_distance': 193.96909256303167}\n",
      "loaded trained models (step: 100000)..!\n"
     ]
    },
    {
     "name": "stderr",
     "output_type": "stream",
     "text": [
      "Creating feature extractor \"inception-v3-compat\" with features ['2048', 'logits_unbiased']\n",
      "Extracting features from input1\n",
      "Looking for samples non-recursivelty in \"./lsun_generated_dataset_span_3_100000\" with extensions png,jpg,jpeg\n",
      "Found 64000 samples\n",
      "Processing samples                                                                                                     \n",
      "Extracting features from input2\n",
      "Looking for samples non-recursivelty in \"./data/transformed_images_LSUN\" with extensions png,jpg,jpeg\n",
      "Found 126227 samples\n",
      "Processing samples                                                                                                     \n",
      "Inception Score: 2.2058047634074427 ± 0.008303541602629232\n"
     ]
    },
    {
     "name": "stdout",
     "output_type": "stream",
     "text": [
      "{'inception_score_mean': 2.2058047634074427, 'inception_score_std': 0.008303541602629232, 'frechet_inception_distance': 178.9165716001635}\n"
     ]
    },
    {
     "name": "stderr",
     "output_type": "stream",
     "text": [
      "Frechet Inception Distance: 178.9165716001635\n"
     ]
    }
   ],
   "source": [
    "ISCs=[]\n",
    "FIDs=[]\n",
    "configs=[]\n",
    "pretrained_models=[10000,20000,30000,40000,50000,60000,70000,80000,90000,100000]\n",
    "for i in range(10):\n",
    "    config.pretrained_model=pretrained_models[i]\n",
    "    \n",
    "    if not os.path.exists('./lsun_generated_dataset_span_3_{}'.format(pretrained_models[i])):\n",
    "        tester=Tester(config)\n",
    "        tester.test()\n",
    "    \n",
    "    metrics_dict = torch_fidelity.calculate_metrics(\n",
    "        input1='./lsun_generated_dataset_span_3_{}'.format(pretrained_models[i]),\n",
    "        input2='./data/transformed_images_LSUN',\n",
    "        cuda=True,\n",
    "        fid=True,\n",
    "        isc=True\n",
    "    )\n",
    "    \n",
    "    print(metrics_dict)\n",
    "    FIDs.append(metrics_dict['frechet_inception_distance'])\n",
    "    ISCs.append(metrics_dict['inception_score_mean'])"
   ]
  },
  {
   "cell_type": "code",
   "execution_count": 9,
   "id": "2c1a172d-ac79-467f-be13-72f4b02edc22",
   "metadata": {
    "tags": []
   },
   "outputs": [
    {
     "data": {
      "text/plain": [
       "[159.74705070072875,\n",
       " 108.92916924136688,\n",
       " 112.82281817133605,\n",
       " 189.0231213059564,\n",
       " 202.40956119116828,\n",
       " 137.91294474330377,\n",
       " 178.10850594362074,\n",
       " 168.62709218746295,\n",
       " 193.96909256303167,\n",
       " 178.9165716001635]"
      ]
     },
     "execution_count": 9,
     "metadata": {},
     "output_type": "execute_result"
    }
   ],
   "source": [
    "FIDs"
   ]
  },
  {
   "cell_type": "code",
   "execution_count": 10,
   "id": "32f10857-ee3b-4f50-996a-97d174b0b627",
   "metadata": {
    "tags": []
   },
   "outputs": [
    {
     "data": {
      "text/plain": [
       "[2.225298898901733,\n",
       " 2.2809561125828144,\n",
       " 2.5348323175294016,\n",
       " 2.4517477575295645,\n",
       " 1.6863579520699308,\n",
       " 1.9681826609844748,\n",
       " 2.8306039515687016,\n",
       " 1.9918005224319224,\n",
       " 1.6049785379138164,\n",
       " 2.2058047634074427]"
      ]
     },
     "execution_count": 10,
     "metadata": {},
     "output_type": "execute_result"
    }
   ],
   "source": [
    "ISCs"
   ]
  },
  {
   "cell_type": "code",
   "execution_count": 11,
   "id": "73689c76-65bf-4055-892e-cd793470f061",
   "metadata": {},
   "outputs": [
    {
     "data": {
      "image/png": "[encoded data removed]",
      "text/plain": [
       "<Figure size 640x480 with 1 Axes>"
      ]
     },
     "metadata": {},
     "output_type": "display_data"
    }
   ],
   "source": [
    "from matplotlib import pyplot as plt\n",
    "\n",
    "plt.plot(FIDs)\n",
    "plt.xlabel('steps(10000)')\n",
    "plt.ylabel('FID')\n",
    "\n",
    "# 显示图表\n",
    "plt.show()"
   ]
  },
  {
   "cell_type": "code",
   "execution_count": null,
   "id": "ed3a3d3d-6ffc-4798-9aa4-25b0df19c4ca",
   "metadata": {},
   "outputs": [],
   "source": []
  }
 ],
 "metadata": {
  "kernelspec": {
   "display_name": "Python 3 (ipykernel)",
   "language": "python",
   "name": "python3"
  },
  "language_info": {
   "codemirror_mode": {
    "name": "ipython",
    "version": 3
   },
   "file_extension": ".py",
   "mimetype": "text/x-python",
   "name": "python",
   "nbconvert_exporter": "python",
   "pygments_lexer": "ipython3",
   "version": "3.11.4"
  }
 },
 "nbformat": 4,
 "nbformat_minor": 5
}
