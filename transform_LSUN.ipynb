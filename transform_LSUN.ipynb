{
 "cells": [
  {
   "cell_type": "code",
   "execution_count": 1,
   "id": "ce2862ab-f2fe-40d4-9881-64bc13a52c05",
   "metadata": {
    "tags": []
   },
   "outputs": [],
   "source": [
    "import os\n",
    "from PIL import Image\n",
    "from torchvision import transforms\n",
    "from torchvision.transforms import ToPILImage\n",
    "from torchvision.utils import save_image\n",
    "import torchvision.datasets as dsets"
   ]
  },
  {
   "cell_type": "code",
   "execution_count": 2,
   "id": "ee52e2e5-e3ca-4522-b58e-7a74998683be",
   "metadata": {
    "tags": []
   },
   "outputs": [],
   "source": [
    "class ImageTransformer:\n",
    "    def __init__(self, image_size):\n",
    "        self.imsize = image_size\n",
    "\n",
    "    def transform(self, resize, totensor, normalize, centercrop):\n",
    "        options = []\n",
    "        if centercrop:\n",
    "            options.append(transforms.CenterCrop(160))\n",
    "        if resize:\n",
    "            options.append(transforms.Resize((self.imsize, self.imsize)))\n",
    "        if totensor:\n",
    "            options.append(transforms.ToTensor())\n",
    "        if normalize:\n",
    "            options.append(transforms.Normalize((0.5, 0.5, 0.5), (0.5, 0.5, 0.5)))\n",
    "\n",
    "        transform = transforms.Compose(options)\n",
    "        return transform"
   ]
  },
  {
   "cell_type": "code",
   "execution_count": 3,
   "id": "8bd2ea16-f2ed-41c5-bbdd-c5e9f33e1667",
   "metadata": {
    "tags": []
   },
   "outputs": [],
   "source": [
    "def load_lsun(source_dir,transformer):\n",
    "    transforms = transformer.transform(True, True, False, False)\n",
    "    dataset = dsets.LSUN(source_dir, classes=['church_outdoor_train'], transform=transforms)\n",
    "    return dataset"
   ]
  },
  {
   "cell_type": "code",
   "execution_count": 4,
   "id": "f51ef582-0f1e-4913-a2aa-c5fde100612f",
   "metadata": {
    "tags": []
   },
   "outputs": [],
   "source": [
    "source_dir = 'data/LSUN'\n",
    "target_dir = 'data/transformed_images_LSUN'\n",
    "image_size = 64"
   ]
  },
  {
   "cell_type": "code",
   "execution_count": 5,
   "id": "efda7060-cf38-4bbf-8021-3ce20e904296",
   "metadata": {
    "tags": []
   },
   "outputs": [],
   "source": [
    "image_transformer = ImageTransformer(image_size)"
   ]
  },
  {
   "cell_type": "code",
   "execution_count": 6,
   "id": "0fbbf6bb-d730-45c7-a534-8d1f4626c22d",
   "metadata": {
    "tags": []
   },
   "outputs": [],
   "source": [
    "dataset=load_lsun(source_dir,image_transformer)"
   ]
  },
  {
   "cell_type": "code",
   "execution_count": 7,
   "id": "a0b0cf21-a329-4479-ac8e-50267c508768",
   "metadata": {
    "tags": []
   },
   "outputs": [],
   "source": [
    "if not os.path.exists(target_dir):\n",
    "    os.makedirs(target_dir)"
   ]
  },
  {
   "cell_type": "code",
   "execution_count": 8,
   "id": "020c1f0b-e06a-4788-ab7d-b0c3e21e1bc9",
   "metadata": {
    "tags": []
   },
   "outputs": [],
   "source": [
    "for i,image in enumerate(dataset):\n",
    "    save_image(image[0],target_dir+'/'+str(i)+'.png')"
   ]
  },
  {
   "cell_type": "code",
   "execution_count": null,
   "id": "1f8be65f-3543-4666-b1fd-81db73e8ed9d",
   "metadata": {},
   "outputs": [],
   "source": []
  }
 ],
 "metadata": {
  "kernelspec": {
   "display_name": "Python 3 (ipykernel)",
   "language": "python",
   "name": "python3"
  },
  "language_info": {
   "codemirror_mode": {
    "name": "ipython",
    "version": 3
   },
   "file_extension": ".py",
   "mimetype": "text/x-python",
   "name": "python",
   "nbconvert_exporter": "python",
   "pygments_lexer": "ipython3",
   "version": "3.11.4"
  }
 },
 "nbformat": 4,
 "nbformat_minor": 5
}
